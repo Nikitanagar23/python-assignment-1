{
 "cells": [
  {
   "cell_type": "markdown",
   "id": "2da37055-3467-40d2-a2d6-5ccbf074b6d6",
   "metadata": {},
   "source": [
    "PYTHON VARIABLES"
   ]
  },
  {
   "cell_type": "markdown",
   "id": "f2047078-d551-43ba-9d0c-f0b73eb5f27e",
   "metadata": {},
   "source": [
    "ASSIGNMENT 1"
   ]
  },
  {
   "cell_type": "code",
   "execution_count": 1,
   "id": "929e5e23-7d4d-4100-8383-5d0b3d4b2508",
   "metadata": {
    "tags": []
   },
   "outputs": [],
   "source": [
    "#QUESTION 1"
   ]
  },
  {
   "cell_type": "code",
   "execution_count": 2,
   "id": "a3d82e37-9274-42c9-95be-c9424e09a9ce",
   "metadata": {
    "tags": []
   },
   "outputs": [],
   "source": [
    "#WRITE ALL THE CONVENTIONS BEING FOLLOWED WHILE DECLARING A VARIABLE."
   ]
  },
  {
   "cell_type": "markdown",
   "id": "0d1da014-2701-403a-86cc-ffe20c13db5b",
   "metadata": {},
   "source": [
    "when declaring variables in python, it's common to follow these conventions:\n",
    "\n",
    "1.  Use lowercase letters and underscores to seprate words in variable names (eg. my_variables).\n",
    "2.  Start variable names with a letter or an underscore(eg. _count, name).\n",
    "3.  Avoid using reserved keywords as variable names(eg. print, if , while).\n",
    "4.  Use descriptive and meaningful names that reflect the purpose of the variable.\n",
    "5.  Be consistent with naming conventions throughout your code."
   ]
  },
  {
   "cell_type": "code",
   "execution_count": null,
   "id": "b9ec4d49-a6b5-4770-8fda-db51fe4a3def",
   "metadata": {},
   "outputs": [],
   "source": []
  },
  {
   "cell_type": "code",
   "execution_count": null,
   "id": "e2e5fec8-6377-4099-9505-44033c267ad6",
   "metadata": {},
   "outputs": [],
   "source": []
  },
  {
   "cell_type": "code",
   "execution_count": 3,
   "id": "f3e6a8c9-ef51-4956-b73d-2eb48e1a2f7b",
   "metadata": {
    "tags": []
   },
   "outputs": [],
   "source": [
    "#QUESTION 2"
   ]
  },
  {
   "cell_type": "code",
   "execution_count": 4,
   "id": "e9ae82c7-a3db-40b0-af8c-f17536800198",
   "metadata": {
    "tags": []
   },
   "outputs": [],
   "source": [
    "#WHAT WILL HAPPEN IF WE DECLARE A RESTRICTED KEYWORD AS A VARIABLE?"
   ]
  },
  {
   "cell_type": "markdown",
   "id": "1f945fca-73d8-4348-8e17-1c28954d3920",
   "metadata": {},
   "source": [
    "if we declare a restricted keyword as a variable in python, it will result ina syntax error. python reverses certain keywords for specific purposed, such as defining control structures or built - in functions. if we try to use one of these reversed keywords as a variable name, python will raise a syntax error to indicate that it is not allowed."
   ]
  },
  {
   "cell_type": "code",
   "execution_count": null,
   "id": "ad0567be-ee8f-49f0-8ee7-a6c7a55b1d59",
   "metadata": {},
   "outputs": [],
   "source": []
  },
  {
   "cell_type": "code",
   "execution_count": null,
   "id": "9194a6e7-4b82-4834-aca5-578434e30b4c",
   "metadata": {},
   "outputs": [],
   "source": []
  },
  {
   "cell_type": "code",
   "execution_count": 5,
   "id": "e8f8f494-51aa-4257-af2a-c15b03bf6306",
   "metadata": {
    "tags": []
   },
   "outputs": [],
   "source": [
    "#QUESTION 3"
   ]
  },
  {
   "cell_type": "code",
   "execution_count": 6,
   "id": "5c16d943-83cb-4b57-a004-6735b19b1c6f",
   "metadata": {
    "tags": []
   },
   "outputs": [],
   "source": [
    "#CAN WE ACTUALLY DECLARE A STRING AS A VARIABLE NAME?"
   ]
  },
  {
   "cell_type": "markdown",
   "id": "08b78f69-2800-4b52-a40d-468974aa0d4d",
   "metadata": {},
   "source": [
    "yes, in python, we can declare a string as a variable name. However, it is generally not recommended to use a string as a variable nome because it can make the code less readable and harder to maintain. it's best to use descriptive variable names that reflect the purpose of the variable. but technically python allows us a string as a variable name."
   ]
  },
  {
   "cell_type": "code",
   "execution_count": null,
   "id": "090da713-99be-46b5-a2e3-f362917422e9",
   "metadata": {},
   "outputs": [],
   "source": []
  },
  {
   "cell_type": "code",
   "execution_count": null,
   "id": "c7a728af-0f9a-41cf-8303-6f39e1056129",
   "metadata": {},
   "outputs": [],
   "source": []
  },
  {
   "cell_type": "code",
   "execution_count": 7,
   "id": "8ae5d4f7-aaaa-4daf-af61-55cc9c250fc9",
   "metadata": {
    "tags": []
   },
   "outputs": [],
   "source": [
    "#QUESTION 4"
   ]
  },
  {
   "cell_type": "code",
   "execution_count": 8,
   "id": "0e1761af-6a89-4b62-8d3e-53e341900f13",
   "metadata": {
    "tags": []
   },
   "outputs": [],
   "source": [
    "#IS IT POSSIBLE FOR US TO DECLARE \"_\" AS A VARIABLE? IF SO, THEN WRITE AN EXAMPLE OF IT."
   ]
  },
  {
   "cell_type": "code",
   "execution_count": null,
   "id": "666c3dd4-ab1a-4b6f-aa4a-a82e70ae32d2",
   "metadata": {},
   "outputs": [],
   "source": [
    "yes it is possible to declare a variable with name \"_\" in python. The inderscore character \"_\" is considered a valid "
   ]
  },
  {
   "cell_type": "code",
   "execution_count": null,
   "id": "067b1908-abbe-4089-b19f-647ee9431616",
   "metadata": {},
   "outputs": [],
   "source": []
  },
  {
   "cell_type": "code",
   "execution_count": null,
   "id": "7d78d7c9-ef92-4210-aa14-83729d6222f1",
   "metadata": {},
   "outputs": [],
   "source": []
  },
  {
   "cell_type": "code",
   "execution_count": 9,
   "id": "777193ae-9a91-4f43-b4ca-b0c2d062c667",
   "metadata": {
    "tags": []
   },
   "outputs": [],
   "source": [
    "#QUESTION 5"
   ]
  },
  {
   "cell_type": "code",
   "execution_count": 10,
   "id": "3dc5f886-bcfb-44db-b874-ff494e2f8c04",
   "metadata": {
    "tags": []
   },
   "outputs": [],
   "source": [
    "#USING AN EXAMPLE, EXPLAIN HOW THE VARIABLES IN PYTHON ARE DYNAMIC IN NATURE."
   ]
  },
  {
   "cell_type": "code",
   "execution_count": 12,
   "id": "8350618e-6758-4ed2-bc0f-e35e618b8e71",
   "metadata": {
    "tags": []
   },
   "outputs": [
    {
     "name": "stdout",
     "output_type": "stream",
     "text": [
      "10\n",
      "Hello, World!\n"
     ]
    }
   ],
   "source": [
    "my_variable = 10\n",
    "print(my_variable)\n",
    "\n",
    "my_variable =\"Hello, World!\"\n",
    "print(my_variable)"
   ]
  },
  {
   "cell_type": "markdown",
   "id": "d82b8a25-c28f-4028-9966-5493bedb3def",
   "metadata": {},
   "source": [
    "we initially assign an integer value(10) to the variable 'my_variable'. However, we can later reassign a string value (\"Hello, World!\") to the same variable without any issues. Python allows us to change the type of a variable dynamically, making it flexible and convienient to work with different data types."
   ]
  }
 ],
 "metadata": {
  "kernelspec": {
   "display_name": "Python 3 (ipykernel)",
   "language": "python",
   "name": "python3"
  },
  "language_info": {
   "codemirror_mode": {
    "name": "ipython",
    "version": 3
   },
   "file_extension": ".py",
   "mimetype": "text/x-python",
   "name": "python",
   "nbconvert_exporter": "python",
   "pygments_lexer": "ipython3",
   "version": "3.11.4"
  }
 },
 "nbformat": 4,
 "nbformat_minor": 5
}
